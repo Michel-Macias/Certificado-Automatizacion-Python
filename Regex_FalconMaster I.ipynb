{
 "cells": [
  {
   "cell_type": "markdown",
   "id": "pleased-bryan",
   "metadata": {},
   "source": [
    "# Regex con Falcon Master\n",
    "\n",
    "Repaso al video de Falcon Master sobre las Espresiones regulares"
   ]
  },
  {
   "cell_type": "code",
   "execution_count": 4,
   "id": "tender-apparatus",
   "metadata": {},
   "outputs": [],
   "source": [
    "texto = '''\n",
    "Carlos Arturo\t\n",
    "449 123 45 67\n",
    "carlos_@hotmail.com\n",
    "www.carlos.com\n",
    "\n",
    "Manuel Alejandro\n",
    "448-234-56-78\n",
    "alejandro@outlook.com\n",
    "https://www.manuel.alejandro.com.mx\n",
    "http://alejandro.com.mx\n",
    "\n",
    "Cesar Alan\n",
    "449 345 67 89\n",
    "cesar@hotmail.com\n",
    "cesar.net'''"
   ]
  },
  {
   "cell_type": "code",
   "execution_count": null,
   "id": "signed-bristol",
   "metadata": {},
   "outputs": [],
   "source": [
    "# Normas para las REGEX---->\n",
    "'''\n",
    "Coincidencias Basicas\n",
    ".       - Cualquier Caracter, excepto nueva linea\n",
    "\\d      - Cualquier Digitos (0-9)\n",
    "\\D      - No es un Digito (0-9)\n",
    "\\w      - Caracter de Palabra (a-z, A-Z, 0-9, _)\n",
    "\\W      - No es un Caracter de Palabra.\n",
    "\\s      - Espacios de cualquier tipo. (espacio, tab, nueva linea)\n",
    "\\S      - No es un Espacio, Tab o nueva linea.\n",
    "\n",
    "Limites\n",
    "\\b      - Limite de Palabra\n",
    "\\B      - No es un Limite de Palabra\n",
    "^       - Inicio de una cadena de texto\n",
    "$       - Final de una cadena de texto\n",
    "\n",
    "Cuantificadores:\n",
    "*       - 0 o Más\n",
    "+       - 1 o Más\n",
    "?       - 0 o Uno\n",
    "{3}     - Numero Exacto\n",
    "{3,4}   - Rango de Numeros (Minimo, Maximo)\n",
    "\n",
    "Conjuntos de Caracteres\n",
    "[]      - Caracteres dentro de los brackets\n",
    "[^ ]    - Caracteres que NO ESTAN dentro de los brackets\n",
    "\n",
    "Grupos\n",
    "( )     - Grupo\n",
    "|       - Uno u otro\n",
    "'''"
   ]
  },
  {
   "cell_type": "code",
   "execution_count": 5,
   "id": "recent-bloom",
   "metadata": {},
   "outputs": [
    {
     "name": "stdout",
     "output_type": "stream",
     "text": [
      "['carlos', 'carlos']\n"
     ]
    }
   ],
   "source": [
    "import re\n",
    "\n",
    "resultado = re.findall(r'carlos', texto)\n",
    "print(resultado)"
   ]
  },
  {
   "cell_type": "markdown",
   "id": "scientific-bridges",
   "metadata": {},
   "source": [
    "## NOTAS\n",
    "Usamos la barra invertida para seleccionar caracteres especiales como el punto o la misma barra para direcciones web\n"
   ]
  },
  {
   "cell_type": "code",
   "execution_count": 6,
   "id": "adolescent-preserve",
   "metadata": {},
   "outputs": [
    {
     "name": "stdout",
     "output_type": "stream",
     "text": [
      "['.com', '.carlos', '.com', '.com', '.manuel', '.alejandro', '.com', '.mx', '.com', '.mx', '.com', '.net']\n",
      "['://www.manuel', '://alejandro.com']\n"
     ]
    }
   ],
   "source": [
    "resultado = re.findall(r'\\.\\w*', texto)\n",
    "print(resultado)\n",
    "resultado = re.findall(r':\\/\\/\\w+\\.\\w+', texto)\n",
    "print(resultado)"
   ]
  },
  {
   "cell_type": "markdown",
   "id": "acquired-block",
   "metadata": {},
   "source": [
    "Vamos a buscar en el texto los numeros de telefono "
   ]
  },
  {
   "cell_type": "code",
   "execution_count": 7,
   "id": "complete-fleet",
   "metadata": {},
   "outputs": [
    {
     "name": "stdout",
     "output_type": "stream",
     "text": [
      "['449 123 45 67', '448-234-56-78', '449 345 67 89']\n"
     ]
    }
   ],
   "source": [
    "resultado = re.findall(r'\\d\\d\\d.\\d\\d\\d.\\d\\d.\\d\\d', texto)\n",
    "print(resultado)\n",
    "# Esta es una regex muy simple para este documento en concreto"
   ]
  },
  {
   "cell_type": "code",
   "execution_count": 8,
   "id": "defensive-roommate",
   "metadata": {},
   "outputs": [
    {
     "name": "stdout",
     "output_type": "stream",
     "text": [
      "['449 123 45 67', '448-234-56-78', '449 345 67 89']\n"
     ]
    }
   ],
   "source": [
    "# Este es otro ejemplo usando cuantificadores\n",
    "resultado = re.findall(r'\\d+.\\d+.\\d+.\\d+', texto)\n",
    "print(resultado)"
   ]
  }
 ],
 "metadata": {
  "kernelspec": {
   "display_name": "Python 3.10.2 64-bit",
   "language": "python",
   "name": "python3"
  },
  "language_info": {
   "codemirror_mode": {
    "name": "ipython",
    "version": 3
   },
   "file_extension": ".py",
   "mimetype": "text/x-python",
   "name": "python",
   "nbconvert_exporter": "python",
   "pygments_lexer": "ipython3",
   "version": "3.10.2"
  },
  "vscode": {
   "interpreter": {
    "hash": "369f2c481f4da34e4445cda3fffd2e751bd1c4d706f27375911949ba6bb62e1c"
   }
  }
 },
 "nbformat": 4,
 "nbformat_minor": 5
}
