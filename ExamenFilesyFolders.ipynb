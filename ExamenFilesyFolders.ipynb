{
 "cells": [
  {
   "cell_type": "code",
   "execution_count": 8,
   "id": "pursuant-beatles",
   "metadata": {},
   "outputs": [
    {
     "name": "stdout",
     "output_type": "stream",
     "text": [
      "['script22.py']\n"
     ]
    }
   ],
   "source": [
    "import os\n",
    "\n",
    "def new_directory(directory, filename):\n",
    "  # Before creating a new directory, check to see if it already exists\n",
    "  if os.path.isdir(directory) == False:\n",
    "    path = os.environ.get('HOME')\n",
    "    path_new = os.path.join(path,directory)\n",
    "    os.mkdir(path_new)\n",
    "\n",
    "  # Create the new file inside of the new directory\n",
    "  os.chdir(path_new)\n",
    "  with open (filename,'w') as file:\n",
    "    file.write('new file')\n",
    "\n",
    "  # Return the list of files in the new directory\n",
    "  \n",
    "  return (os.listdir(path_new))\n",
    "\n",
    "print(new_directory(\"PythonPrograms22\", \"script22.py\"))"
   ]
  },
  {
   "cell_type": "code",
   "execution_count": 26,
   "id": "wrapped-membrane",
   "metadata": {},
   "outputs": [
    {
     "name": "stdout",
     "output_type": "stream",
     "text": [
      "Last modify 2022-05-12 \n"
     ]
    }
   ],
   "source": [
    "import os\n",
    "import datetime\n",
    "\n",
    "def file_date(filename):\n",
    "  # Create the file in the current directory\n",
    "  with open(filename, 'w') as f:\n",
    "    f.write('new file')\n",
    "    tiempo = os.stat(filename).st_mtime\n",
    "    timestamp = datetime.datetime.fromtimestamp(tiempo)\n",
    "  # Convert the timestamp into a readable format, then into a string\n",
    "  fecha = str(timestamp)\n",
    "  # Return just the date portion \n",
    "  fechamodify = fecha[:11]\n",
    "  # Hint: how many characters are in “yyyy-mm-dd”? \n",
    "  return (\"Last modify {}\".format(fechamodify))\n",
    "\n",
    "print(file_date(\"newfile.txt\")) \n",
    "# Should be today's date in the format of yyyy-mm-dd"
   ]
  },
  {
   "cell_type": "code",
   "execution_count": 13,
   "id": "antique-hospital",
   "metadata": {},
   "outputs": [
    {
     "name": "stdout",
     "output_type": "stream",
     "text": [
      "Help on built-in function fromtimestamp:\n",
      "\n",
      "fromtimestamp(...) method of builtins.type instance\n",
      "    timestamp[, tz] -> tz's local time from POSIX timestamp.\n",
      "\n"
     ]
    }
   ],
   "source": [
    "\n",
    "help(datetime.datetime.fromtimestamp)"
   ]
  }
 ],
 "metadata": {
  "kernelspec": {
   "display_name": "Python 3",
   "language": "python",
   "name": "python3"
  },
  "language_info": {
   "codemirror_mode": {
    "name": "ipython",
    "version": 3
   },
   "file_extension": ".py",
   "mimetype": "text/x-python",
   "name": "python",
   "nbconvert_exporter": "python",
   "pygments_lexer": "ipython3",
   "version": "3.9.2"
  }
 },
 "nbformat": 4,
 "nbformat_minor": 5
}
