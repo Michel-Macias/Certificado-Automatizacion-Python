{
 "cells": [
  {
   "cell_type": "markdown",
   "id": "civic-bookmark",
   "metadata": {},
   "source": [
    "# REGEX II\n",
    "## Comodines y clases de caracteres"
   ]
  },
  {
   "cell_type": "markdown",
   "id": "associate-terry",
   "metadata": {},
   "source": [
    "### Usamos los corchetes para pasarle una serie de caracteres que pueden ser validos para la busqueda"
   ]
  },
  {
   "cell_type": "code",
   "execution_count": 1,
   "id": "compliant-suite",
   "metadata": {},
   "outputs": [],
   "source": [
    "import re\n",
    "\n",
    "texto = \"Las palabras que vamos a buscar son Estas Palabras, que se podria decir que son las unicas Palabras validas y no las palabras del hombre\""
   ]
  },
  {
   "cell_type": "code",
   "execution_count": 2,
   "id": "corrected-brunswick",
   "metadata": {},
   "outputs": [
    {
     "name": "stdout",
     "output_type": "stream",
     "text": [
      "<re.Match object; span=(4, 11), match='palabra'>\n"
     ]
    }
   ],
   "source": [
    "resultado = re.search(r'[Pp]alabra', texto)\n",
    "print(resultado)"
   ]
  },
  {
   "cell_type": "code",
   "execution_count": 13,
   "id": "committed-luxembourg",
   "metadata": {},
   "outputs": [
    {
     "name": "stdout",
     "output_type": "stream",
     "text": [
      "<re.Match object; span=(7, 10), match='cat'>\n",
      "<re.Match object; span=(7, 10), match='dog'>\n",
      "<re.Match object; span=(12, 15), match='cat'>\n"
     ]
    }
   ],
   "source": [
    "# La funcion de busqueda re.search() solo nos devuelve la posicion de la primera coincidencia\n",
    "# Usamos el pipe | para darle dos opciones de busqueda posibles\n",
    "print(re.search(r'cat|dog', 'I like cats.'))\n",
    "print(re.search(r'cat|dog', 'I like dogs.'))\n",
    "print(re.search(r'cat|dog', 'I like both cats and dogs.'))"
   ]
  },
  {
   "cell_type": "markdown",
   "id": "roman-mumbai",
   "metadata": {},
   "source": [
    "#### Podemos observar como search solo nos devuelve una coincidencia\n",
    "\n",
    "# Usando findall() \n",
    "### Usamos esta funcion para encontrar mas coincidencias"
   ]
  },
  {
   "cell_type": "code",
   "execution_count": 14,
   "id": "automotive-destination",
   "metadata": {},
   "outputs": [
    {
     "name": "stdout",
     "output_type": "stream",
     "text": [
      "['palabra', 'Palabra', 'Palabra', 'palabra']\n"
     ]
    }
   ],
   "source": [
    "print(re.findall(r'[Pp]alabra', texto))\n",
    "# Esta funcion nos devuelve una lista con las coincidencias"
   ]
  },
  {
   "cell_type": "code",
   "execution_count": 15,
   "id": "expressed-sensitivity",
   "metadata": {},
   "outputs": [
    {
     "name": "stdout",
     "output_type": "stream",
     "text": [
      "Help on function findall in module re:\n",
      "\n",
      "findall(pattern, string, flags=0)\n",
      "    Return a list of all non-overlapping matches in the string.\n",
      "    \n",
      "    If one or more capturing groups are present in the pattern, return\n",
      "    a list of groups; this will be a list of tuples if the pattern\n",
      "    has more than one group.\n",
      "    \n",
      "    Empty matches are included in the result.\n",
      "\n",
      "None\n"
     ]
    }
   ],
   "source": [
    "print(help(re.findall))"
   ]
  }
 ],
 "metadata": {
  "kernelspec": {
   "display_name": "Python 3.10.2 64-bit",
   "language": "python",
   "name": "python3"
  },
  "language_info": {
   "codemirror_mode": {
    "name": "ipython",
    "version": 3
   },
   "file_extension": ".py",
   "mimetype": "text/x-python",
   "name": "python",
   "nbconvert_exporter": "python",
   "pygments_lexer": "ipython3",
   "version": "3.10.2"
  },
  "vscode": {
   "interpreter": {
    "hash": "369f2c481f4da34e4445cda3fffd2e751bd1c4d706f27375911949ba6bb62e1c"
   }
  }
 },
 "nbformat": 4,
 "nbformat_minor": 5
}
