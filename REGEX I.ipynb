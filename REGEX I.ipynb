{
 "cells": [
  {
   "cell_type": "markdown",
   "id": "atomic-bolivia",
   "metadata": {},
   "source": [
    "# REGEX -- Expresiones regulares"
   ]
  },
  {
   "cell_type": "code",
   "execution_count": 2,
   "id": "exotic-template",
   "metadata": {},
   "outputs": [],
   "source": [
    "# Importamos el modulo re de Python\n",
    "import re"
   ]
  },
  {
   "cell_type": "code",
   "execution_count": 3,
   "id": "thick-celebration",
   "metadata": {},
   "outputs": [
    {
     "data": {
      "text/plain": [
       "['A',\n",
       " 'ASCII',\n",
       " 'DEBUG',\n",
       " 'DOTALL',\n",
       " 'I',\n",
       " 'IGNORECASE',\n",
       " 'L',\n",
       " 'LOCALE',\n",
       " 'M',\n",
       " 'MULTILINE',\n",
       " 'Match',\n",
       " 'Pattern',\n",
       " 'RegexFlag',\n",
       " 'S',\n",
       " 'Scanner',\n",
       " 'T',\n",
       " 'TEMPLATE',\n",
       " 'U',\n",
       " 'UNICODE',\n",
       " 'VERBOSE',\n",
       " 'X',\n",
       " '_MAXCACHE',\n",
       " '__all__',\n",
       " '__builtins__',\n",
       " '__cached__',\n",
       " '__doc__',\n",
       " '__file__',\n",
       " '__loader__',\n",
       " '__name__',\n",
       " '__package__',\n",
       " '__spec__',\n",
       " '__version__',\n",
       " '_cache',\n",
       " '_compile',\n",
       " '_compile_repl',\n",
       " '_expand',\n",
       " '_locale',\n",
       " '_pickle',\n",
       " '_special_chars_map',\n",
       " '_subx',\n",
       " 'compile',\n",
       " 'copyreg',\n",
       " 'enum',\n",
       " 'error',\n",
       " 'escape',\n",
       " 'findall',\n",
       " 'finditer',\n",
       " 'fullmatch',\n",
       " 'functools',\n",
       " 'match',\n",
       " 'purge',\n",
       " 'search',\n",
       " 'split',\n",
       " 'sre_compile',\n",
       " 'sre_parse',\n",
       " 'sub',\n",
       " 'subn',\n",
       " 'template']"
      ]
     },
     "execution_count": 3,
     "metadata": {},
     "output_type": "execute_result"
    }
   ],
   "source": [
    "dir(re)"
   ]
  },
  {
   "cell_type": "code",
   "execution_count": 6,
   "id": "reserved-vertex",
   "metadata": {},
   "outputs": [
    {
     "name": "stdout",
     "output_type": "stream",
     "text": [
      "Help on function search in module re:\n",
      "\n",
      "search(pattern, string, flags=0)\n",
      "    Scan through string looking for a match to the pattern, returning\n",
      "    a Match object, or None if no match was found.\n",
      "\n",
      "None\n"
     ]
    }
   ],
   "source": [
    "print(help(re.search))"
   ]
  },
  {
   "cell_type": "markdown",
   "id": "radical-proxy",
   "metadata": {},
   "source": [
    "### Ayuda sobre la función de búsqueda en el módulo re:\n",
    "\n",
    "### search (patrón, cadena, banderas = 0)\n",
    "### Escanee a través de la cadena en busca de una coincidencia con el patrón, regresando\n",
    "### un objeto Match, o None si no se encontró ninguna coincidencia.\n",
    "\n",
    "## None "
   ]
  },
  {
   "cell_type": "code",
   "execution_count": 10,
   "id": "robust-admission",
   "metadata": {},
   "outputs": [
    {
     "name": "stdout",
     "output_type": "stream",
     "text": [
      "<re.Match object; span=(2, 5), match='aza'>\n",
      "<re.Match object; span=(1, 4), match='aza'>\n"
     ]
    }
   ],
   "source": [
    "resultado = re.search(r'aza', 'plaza')\n",
    "print(resultado)\n",
    "resultado = re.search(r'aza', 'bazar')\n",
    "print(resultado)"
   ]
  },
  {
   "cell_type": "code",
   "execution_count": 9,
   "id": "incredible-column",
   "metadata": {},
   "outputs": [],
   "source": [
    "# Devuelve un objeto Match que muestra el rango en el indice del \n",
    "# string en el que encuentra la coincidencia\n",
    "# Observa como cambia el valor de span"
   ]
  },
  {
   "cell_type": "markdown",
   "id": "designed-alpha",
   "metadata": {},
   "source": [
    "## Usando el punto"
   ]
  },
  {
   "cell_type": "code",
   "execution_count": 14,
   "id": "embedded-today",
   "metadata": {},
   "outputs": [
    {
     "name": "stdout",
     "output_type": "stream",
     "text": [
      "<re.Match object; span=(4, 8), match='ping'>\n",
      "<re.Match object; span=(1, 5), match='pong'>\n",
      "<re.Match object; span=(0, 4), match='peng'>\n",
      "None\n",
      "<re.Match object; span=(0, 4), match='Pang'>\n"
     ]
    }
   ],
   "source": [
    "print(re.search(r'p.ng', 'clapping'))\n",
    "print(re.search(r'p.ng', 'sponge'))\n",
    "print(re.search(r'p.ng', 'penguin'))\n",
    "# Observamos como el punto lo encuentra como cualquier caracter\n",
    "# Se pueden pasar opciones como re.IGNORECASE\n",
    "print(re.search(r'p.ng', 'Pangea')) # Devuelve None al ir en mayusculas\n",
    "print(re.search(r'p.ng', 'Pangea', re.IGNORECASE))"
   ]
  },
  {
   "cell_type": "code",
   "execution_count": null,
   "id": "integral-carter",
   "metadata": {},
   "outputs": [],
   "source": []
  }
 ],
 "metadata": {
  "kernelspec": {
   "display_name": "Python 3",
   "language": "python",
   "name": "python3"
  },
  "language_info": {
   "codemirror_mode": {
    "name": "ipython",
    "version": 3
   },
   "file_extension": ".py",
   "mimetype": "text/x-python",
   "name": "python",
   "nbconvert_exporter": "python",
   "pygments_lexer": "ipython3",
   "version": "3.9.2"
  }
 },
 "nbformat": 4,
 "nbformat_minor": 5
}
