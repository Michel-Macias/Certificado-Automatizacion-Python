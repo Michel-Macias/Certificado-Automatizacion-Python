{
 "cells": [
  {
   "cell_type": "markdown",
   "id": "loose-horse",
   "metadata": {},
   "source": [
    "# REGEX III\n",
    "\n",
    "## Calificadores de repetición\n",
    "\n",
    "Comenzamos este apartado con estos ejemplos."
   ]
  },
  {
   "cell_type": "code",
   "execution_count": 2,
   "id": "arctic-object",
   "metadata": {},
   "outputs": [],
   "source": [
    "import re"
   ]
  },
  {
   "cell_type": "code",
   "execution_count": 3,
   "id": "peaceful-extent",
   "metadata": {},
   "outputs": [
    {
     "name": "stdout",
     "output_type": "stream",
     "text": [
      "<re.Match object; span=(0, 9), match='Pygmalion'>\n"
     ]
    }
   ],
   "source": [
    "print(re.search(r'Py.*n', 'Pygmalion'))"
   ]
  },
  {
   "cell_type": "code",
   "execution_count": 4,
   "id": "seventh-husband",
   "metadata": {},
   "outputs": [
    {
     "name": "stdout",
     "output_type": "stream",
     "text": [
      "<re.Match object; span=(0, 17), match='Python Programmin'>\n"
     ]
    }
   ],
   "source": [
    "print(re.search(r'Py.*n', 'Python Programmin'))"
   ]
  },
  {
   "cell_type": "code",
   "execution_count": 5,
   "id": "adequate-killing",
   "metadata": {},
   "outputs": [],
   "source": [
    "# Podemos ver como el * da el valor al caracter hasta el final del str "
   ]
  },
  {
   "cell_type": "code",
   "execution_count": 6,
   "id": "bulgarian-powell",
   "metadata": {},
   "outputs": [],
   "source": [
    "# Este efecto se conoce como Greedy(codicioso) y podemos hacer que\n",
    "# lo sea menos. Si sólo queremos que el patron coincida con letras,\n",
    "# usaremos la clase de caracteres"
   ]
  },
  {
   "cell_type": "code",
   "execution_count": 7,
   "id": "fitted-village",
   "metadata": {},
   "outputs": [
    {
     "name": "stdout",
     "output_type": "stream",
     "text": [
      "<re.Match object; span=(0, 6), match='Python'>\n"
     ]
    }
   ],
   "source": [
    "print(re.search(r'Py[a-z]+n', 'Python Programmin'))"
   ]
  },
  {
   "cell_type": "code",
   "execution_count": 8,
   "id": "standing-pride",
   "metadata": {},
   "outputs": [],
   "source": [
    "# Observa como ahora sólo coge la primera palabra(span=0,6) "
   ]
  },
  {
   "cell_type": "code",
   "execution_count": 9,
   "id": "composed-mozambique",
   "metadata": {},
   "outputs": [
    {
     "name": "stdout",
     "output_type": "stream",
     "text": [
      "<re.Match object; span=(0, 3), match='Pyn'>\n"
     ]
    }
   ],
   "source": [
    "print(re.search(r'Py[a-z]*n', 'Pyn'))"
   ]
  },
  {
   "cell_type": "markdown",
   "id": "threatened-guitar",
   "metadata": {},
   "source": [
    "# Escaping characters\n",
    "Cuando queremos buscar en un texto un caracter especial. como por ejemplo un punto (.) tenemos que usar un caracter de escape para ello, ya que si le pasamos el punto sólo, nos lo identifica comp cualquier caracter."
   ]
  },
  {
   "cell_type": "code",
   "execution_count": 10,
   "id": "thick-terrorism",
   "metadata": {},
   "outputs": [
    {
     "name": "stdout",
     "output_type": "stream",
     "text": [
      "<re.Match object; span=(2, 6), match='lcom'>\n"
     ]
    }
   ],
   "source": [
    "print(re.search(r'.com', 'Falcom'))"
   ]
  },
  {
   "cell_type": "markdown",
   "id": "favorite-packing",
   "metadata": {},
   "source": [
    "En este caso el punto, al no llevar el caracter de escape, sustituye el punto por el caracter 'l', no por el punto. Para ello usaremos el caracter de escape de la barra invertida '\\'"
   ]
  },
  {
   "cell_type": "code",
   "execution_count": 12,
   "id": "collectible-charger",
   "metadata": {},
   "outputs": [
    {
     "name": "stdout",
     "output_type": "stream",
     "text": [
      "<re.Match object; span=(9, 13), match='.com'>\n"
     ]
    }
   ],
   "source": [
    "print(re.search(r'\\.com', 'josematas.com'))"
   ]
  },
  {
   "cell_type": "markdown",
   "id": "unsigned-chancellor",
   "metadata": {},
   "source": [
    "En el siguiente ejemplo vamos a seleccionar en el texto la barra normal para URLs."
   ]
  },
  {
   "cell_type": "code",
   "execution_count": 19,
   "id": "furnished-worth",
   "metadata": {},
   "outputs": [
    {
     "name": "stdout",
     "output_type": "stream",
     "text": [
      "<re.Match object; span=(6, 7), match='/'>\n"
     ]
    }
   ],
   "source": [
    "print(re.search(r'/', 'https://www.josematas.com'))"
   ]
  },
  {
   "cell_type": "code",
   "execution_count": 25,
   "id": "lyric-triple",
   "metadata": {},
   "outputs": [
    {
     "name": "stdout",
     "output_type": "stream",
     "text": [
      "<re.Match object; span=(0, 4), match='Esto'>\n"
     ]
    }
   ],
   "source": [
    "print(re.search(r'\\w*', 'Esto es un ejemplo'))"
   ]
  },
  {
   "cell_type": "code",
   "execution_count": null,
   "id": "going-router",
   "metadata": {},
   "outputs": [],
   "source": [
    "# Como vemos el guion bajo_ es considerado un caracter de letras."
   ]
  },
  {
   "cell_type": "code",
   "execution_count": 24,
   "id": "hawaiian-intake",
   "metadata": {},
   "outputs": [
    {
     "name": "stdout",
     "output_type": "stream",
     "text": [
      "<re.Match object; span=(0, 18), match='Esto_es_un_ejemplo'>\n"
     ]
    }
   ],
   "source": [
    "print(re.search(r'\\w*', 'Esto_es_un_ejemplo'))"
   ]
  },
  {
   "cell_type": "code",
   "execution_count": null,
   "id": "neural-bubble",
   "metadata": {},
   "outputs": [],
   "source": []
  }
 ],
 "metadata": {
  "kernelspec": {
   "display_name": "Python 3",
   "language": "python",
   "name": "python3"
  },
  "language_info": {
   "codemirror_mode": {
    "name": "ipython",
    "version": 3
   },
   "file_extension": ".py",
   "mimetype": "text/x-python",
   "name": "python",
   "nbconvert_exporter": "python",
   "pygments_lexer": "ipython3",
   "version": "3.9.2"
  }
 },
 "nbformat": 4,
 "nbformat_minor": 5
}
