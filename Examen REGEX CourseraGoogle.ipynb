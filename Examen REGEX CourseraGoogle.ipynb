{
 "cells": [
  {
   "cell_type": "markdown",
   "id": "higher-collect",
   "metadata": {},
   "source": [
    "## Pregunta 1\n",
    "\n",
    "Estamos trabajando con un archivo CSV, que contiene información de los empleados. Cada registro tiene un campo de nombre, seguido de un campo de número de teléfono y un campo de función. El campo de número de teléfono contiene números de teléfono de EE. UU. y debe modificarse al formato internacional, con \"+1-\" delante del número de teléfono. Complete la expresión regular, usando grupos, para usar la función transform_record para hacer eso."
   ]
  },
  {
   "cell_type": "code",
   "execution_count": 1,
   "id": "favorite-walter",
   "metadata": {},
   "outputs": [
    {
     "name": "stdout",
     "output_type": "stream",
     "text": [
      "Sabrina Green,802-867-5309,System Administrator\n",
      "Sabrina Green,+1-802-867-5309,System Administrator\n"
     ]
    }
   ],
   "source": [
    "import re\n",
    "\n",
    "texto = 'Sabrina Green,802-867-5309,System Administrator'\n",
    "new_text = re.sub(r'([\\w .-]*),([\\d -]*),([\\w .-]*)', r'\\1,+1-\\2,\\3', texto)\n",
    "print(texto)\n",
    "print(new_text)"
   ]
  },
  {
   "cell_type": "markdown",
   "id": "printable-might",
   "metadata": {},
   "source": [
    "### NOTA\n",
    "En este ejercicio en la plataforma me da resultado como erróneo.\n",
    "No termino de entender bien porque."
   ]
  },
  {
   "cell_type": "markdown",
   "id": "marked-allergy",
   "metadata": {},
   "source": [
    "## Pregunta 2\n",
    "\n",
    "La función multi_vowel_words devuelve todas las palabras con 3 o más vocales consecutivas (a, e, i, o, u). Complete la expresión regular para hacer eso."
   ]
  },
  {
   "cell_type": "code",
   "execution_count": 8,
   "id": "specific-midwest",
   "metadata": {},
   "outputs": [
    {
     "name": "stdout",
     "output_type": "stream",
     "text": [
      "[('Obv', 'iou', 'sly'), ('q', 'uee', 'n'), ('courag', 'eou', 's'), ('grac', 'iou', 's')]\n"
     ]
    }
   ],
   "source": [
    "import re\n",
    "def multi_vowel_words(text):\n",
    "    #pattern = r'\\b[a-zA-z]*[aeiou]{3,}[a-zA-z]*\\b'\n",
    "    pattern = r'\\b([a-zA-z]*)([aeiou]{3,})([a-zA-z]*)\\b'\n",
    "    # Ojo a los paréntesis, ya que crea grupos y findall() nos \n",
    "    # devuelve una lista con la palabra partida\n",
    "    # OPCION BUENA LA COMENTADA --> Descomentar y comentar esta\n",
    "    result = re.findall(pattern, text)\n",
    "    return result\n",
    "\n",
    "print(multi_vowel_words(\"Obviously, the queen is courageous and gracious.\")) \n"
   ]
  },
  {
   "cell_type": "markdown",
   "id": "loving-banana",
   "metadata": {},
   "source": [
    "## Pregunta 3\n",
    "\n",
    "Al capturar grupos de expresiones regulares, ¿qué tipo de datos devuelve el método de grupos?\n",
    "\n",
    "A string\n",
    "\n",
    "\n",
    "A tuple\n",
    "\n",
    "\n",
    "A list\n",
    "\n",
    "\n",
    "A float"
   ]
  },
  {
   "cell_type": "markdown",
   "id": "altered-archives",
   "metadata": {},
   "source": [
    "## Pregunta 4\n",
    "\n",
    "La función transform_comments convierte los comentarios en una secuencia de comandos de Python en los que puede usar un compilador de C. Esto significa buscar texto que comience con una almohadilla (#) y reemplazarlo con barras inclinadas dobles (//), que es el indicador de comentario de una sola línea de C. A los efectos de este ejercicio, ignoraremos la posibilidad de una marca hash incrustada dentro de un comando de Python y supondremos que solo se usa para indicar un comentario. También queremos tratar las marcas de almohadilla repetitivas (##), (###), etc., como un solo indicador de comentario, para ser reemplazado solo con (//) y no (#//) o (//#) . Complete los parámetros del método de sustitución para completar esta función:"
   ]
  },
  {
   "cell_type": "code",
   "execution_count": 26,
   "id": "becoming-guarantee",
   "metadata": {},
   "outputs": [
    {
     "name": "stdout",
     "output_type": "stream",
     "text": [
      "// Start of program\n",
      "  number = 0   // Initialize the variable\n",
      "  number += 1   // Increment the variable\n",
      "  return(number)\n"
     ]
    }
   ],
   "source": [
    "import re\n",
    "def transform_comments(line_of_code):\n",
    "    result = re.sub(r\"^[#]?([\\w\\s+-=]*)(#+)([\\w\\s+-=]*)\", r\"\\1//\\3\" , line_of_code)\n",
    "    if result == None:\n",
    "        return line_of_code\n",
    "    return result\n",
    "\n",
    "print(transform_comments(\"### Start of program\"))\n",
    "# Should be \"// Start of program\"\n",
    "print(transform_comments(\"  number = 0   ## Initialize the variable\")) \n",
    "# Should be \"  number = 0   // Initialize the variable\"\n",
    "print(transform_comments(\"  number += 1   # Increment the variable\")) \n",
    "# Should be \"  number += 1   // Increment the variable\"\n",
    "print(transform_comments(\"  return(number)\")) \n",
    "# Should be \"  return(number)\""
   ]
  },
  {
   "cell_type": "markdown",
   "id": "suburban-encounter",
   "metadata": {},
   "source": [
    "## Pregunta 5\n",
    "\n",
    "La función convert_phone_number busca un formato de número de teléfono de EE. UU.: XXX-XXX-XXXX (3 dígitos seguidos de un guión, 3 dígitos más seguidos de un guión y 4 dígitos) y lo convierte a un formato más formal que se ve así: (XXX) XXX-XXXX. Complete la expresión regular para completar esta función."
   ]
  },
  {
   "cell_type": "code",
   "execution_count": 33,
   "id": "independent-decision",
   "metadata": {},
   "outputs": [
    {
     "name": "stdout",
     "output_type": "stream",
     "text": [
      "My number is 212-345-9999.\n",
      "Please call 888-555-1234\n",
      "123-123-12345\n",
      "Phone number of Buckingham Palace is +44 303 123 7300\n"
     ]
    }
   ],
   "source": [
    "import re\n",
    "\n",
    "def convert_phone_number(phone):\n",
    "    result = re.sub('([\\d{3}])-([\\d{3}])-([\\d{4}])', r'(\\1) \\2-\\3', phone)\n",
    "    return result\n",
    "\n",
    "print(convert_phone_number(\"My number is 212-345-9999.\")) # My number is (212) 345-9999.\n",
    "print(convert_phone_number(\"Please call 888-555-1234\")) # Please call (888) 555-1234\n",
    "print(convert_phone_number(\"123-123-12345\")) # 123-123-12345\n",
    "print(convert_phone_number(\"Phone number of Buckingham Palace is +44 303 123 7300\")) # Phone number of Buckingham Palace is +44 303 123 7300"
   ]
  }
 ],
 "metadata": {
  "kernelspec": {
   "display_name": "Python 3",
   "language": "python",
   "name": "python3"
  },
  "language_info": {
   "codemirror_mode": {
    "name": "ipython",
    "version": 3
   },
   "file_extension": ".py",
   "mimetype": "text/x-python",
   "name": "python",
   "nbconvert_exporter": "python",
   "pygments_lexer": "ipython3",
   "version": "3.9.2"
  }
 },
 "nbformat": 4,
 "nbformat_minor": 5
}
