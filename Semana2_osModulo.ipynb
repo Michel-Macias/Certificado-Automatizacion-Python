{
 "cells": [
  {
   "cell_type": "markdown",
   "id": "a73504fb",
   "metadata": {},
   "source": [
    "# Modulo OS de Python"
   ]
  },
  {
   "cell_type": "code",
   "execution_count": 1,
   "id": "ac6c4d92",
   "metadata": {},
   "outputs": [],
   "source": [
    "import os"
   ]
  },
  {
   "cell_type": "markdown",
   "id": "406dc2ab",
   "metadata": {},
   "source": [
    "### Usamos la función dir() para que nos muestre todos los metodos de los que disponemos para este modulo OS"
   ]
  },
  {
   "cell_type": "code",
   "execution_count": 2,
   "id": "05dcaaaf",
   "metadata": {},
   "outputs": [
    {
     "name": "stdout",
     "output_type": "stream",
     "text": [
      "['CLD_CONTINUED', 'CLD_DUMPED', 'CLD_EXITED', 'CLD_TRAPPED', 'DirEntry', 'EX_CANTCREAT', 'EX_CONFIG', 'EX_DATAERR', 'EX_IOERR', 'EX_NOHOST', 'EX_NOINPUT', 'EX_NOPERM', 'EX_NOUSER', 'EX_OK', 'EX_OSERR', 'EX_OSFILE', 'EX_PROTOCOL', 'EX_SOFTWARE', 'EX_TEMPFAIL', 'EX_UNAVAILABLE', 'EX_USAGE', 'F_LOCK', 'F_OK', 'F_TEST', 'F_TLOCK', 'F_ULOCK', 'GRND_NONBLOCK', 'GRND_RANDOM', 'MFD_ALLOW_SEALING', 'MFD_CLOEXEC', 'MFD_HUGETLB', 'MFD_HUGE_16GB', 'MFD_HUGE_16MB', 'MFD_HUGE_1GB', 'MFD_HUGE_1MB', 'MFD_HUGE_256MB', 'MFD_HUGE_2GB', 'MFD_HUGE_2MB', 'MFD_HUGE_32MB', 'MFD_HUGE_512KB', 'MFD_HUGE_512MB', 'MFD_HUGE_64KB', 'MFD_HUGE_8MB', 'MFD_HUGE_MASK', 'MFD_HUGE_SHIFT', 'MutableMapping', 'NGROUPS_MAX', 'O_ACCMODE', 'O_APPEND', 'O_ASYNC', 'O_CLOEXEC', 'O_CREAT', 'O_DIRECT', 'O_DIRECTORY', 'O_DSYNC', 'O_EXCL', 'O_LARGEFILE', 'O_NDELAY', 'O_NOATIME', 'O_NOCTTY', 'O_NOFOLLOW', 'O_NONBLOCK', 'O_PATH', 'O_RDONLY', 'O_RDWR', 'O_RSYNC', 'O_SYNC', 'O_TMPFILE', 'O_TRUNC', 'O_WRONLY', 'POSIX_FADV_DONTNEED', 'POSIX_FADV_NOREUSE', 'POSIX_FADV_NORMAL', 'POSIX_FADV_RANDOM', 'POSIX_FADV_SEQUENTIAL', 'POSIX_FADV_WILLNEED', 'POSIX_SPAWN_CLOSE', 'POSIX_SPAWN_DUP2', 'POSIX_SPAWN_OPEN', 'PRIO_PGRP', 'PRIO_PROCESS', 'PRIO_USER', 'P_ALL', 'P_NOWAIT', 'P_NOWAITO', 'P_PGID', 'P_PID', 'P_WAIT', 'PathLike', 'RTLD_DEEPBIND', 'RTLD_GLOBAL', 'RTLD_LAZY', 'RTLD_LOCAL', 'RTLD_NODELETE', 'RTLD_NOLOAD', 'RTLD_NOW', 'RWF_DSYNC', 'RWF_HIPRI', 'RWF_NOWAIT', 'RWF_SYNC', 'R_OK', 'SCHED_BATCH', 'SCHED_FIFO', 'SCHED_IDLE', 'SCHED_OTHER', 'SCHED_RESET_ON_FORK', 'SCHED_RR', 'SEEK_CUR', 'SEEK_DATA', 'SEEK_END', 'SEEK_HOLE', 'SEEK_SET', 'ST_APPEND', 'ST_MANDLOCK', 'ST_NOATIME', 'ST_NODEV', 'ST_NODIRATIME', 'ST_NOEXEC', 'ST_NOSUID', 'ST_RDONLY', 'ST_RELATIME', 'ST_SYNCHRONOUS', 'ST_WRITE', 'TMP_MAX', 'WCONTINUED', 'WCOREDUMP', 'WEXITED', 'WEXITSTATUS', 'WIFCONTINUED', 'WIFEXITED', 'WIFSIGNALED', 'WIFSTOPPED', 'WNOHANG', 'WNOWAIT', 'WSTOPPED', 'WSTOPSIG', 'WTERMSIG', 'WUNTRACED', 'W_OK', 'XATTR_CREATE', 'XATTR_REPLACE', 'XATTR_SIZE_MAX', 'X_OK', '_Environ', '__all__', '__builtins__', '__cached__', '__doc__', '__file__', '__loader__', '__name__', '__package__', '__spec__', '_check_methods', '_execvpe', '_exists', '_exit', '_fspath', '_fwalk', '_get_exports_list', '_putenv', '_spawnvef', '_unsetenv', '_wrap_close', 'abc', 'abort', 'access', 'altsep', 'chdir', 'chmod', 'chown', 'chroot', 'close', 'closerange', 'confstr', 'confstr_names', 'copy_file_range', 'cpu_count', 'ctermid', 'curdir', 'defpath', 'device_encoding', 'devnull', 'dup', 'dup2', 'environ', 'environb', 'error', 'execl', 'execle', 'execlp', 'execlpe', 'execv', 'execve', 'execvp', 'execvpe', 'extsep', 'fchdir', 'fchmod', 'fchown', 'fdatasync', 'fdopen', 'fork', 'forkpty', 'fpathconf', 'fsdecode', 'fsencode', 'fspath', 'fstat', 'fstatvfs', 'fsync', 'ftruncate', 'fwalk', 'get_blocking', 'get_exec_path', 'get_inheritable', 'get_terminal_size', 'getcwd', 'getcwdb', 'getegid', 'getenv', 'getenvb', 'geteuid', 'getgid', 'getgrouplist', 'getgroups', 'getloadavg', 'getlogin', 'getpgid', 'getpgrp', 'getpid', 'getppid', 'getpriority', 'getrandom', 'getresgid', 'getresuid', 'getsid', 'getuid', 'getxattr', 'initgroups', 'isatty', 'kill', 'killpg', 'lchown', 'linesep', 'link', 'listdir', 'listxattr', 'lockf', 'lseek', 'lstat', 'major', 'makedev', 'makedirs', 'memfd_create', 'minor', 'mkdir', 'mkfifo', 'mknod', 'name', 'nice', 'open', 'openpty', 'pardir', 'path', 'pathconf', 'pathconf_names', 'pathsep', 'pipe', 'pipe2', 'popen', 'posix_fadvise', 'posix_fallocate', 'posix_spawn', 'posix_spawnp', 'pread', 'preadv', 'putenv', 'pwrite', 'pwritev', 'read', 'readlink', 'readv', 'register_at_fork', 'remove', 'removedirs', 'removexattr', 'rename', 'renames', 'replace', 'rmdir', 'scandir', 'sched_get_priority_max', 'sched_get_priority_min', 'sched_getaffinity', 'sched_getparam', 'sched_getscheduler', 'sched_param', 'sched_rr_get_interval', 'sched_setaffinity', 'sched_setparam', 'sched_setscheduler', 'sched_yield', 'sendfile', 'sep', 'set_blocking', 'set_inheritable', 'setegid', 'seteuid', 'setgid', 'setgroups', 'setpgid', 'setpgrp', 'setpriority', 'setregid', 'setresgid', 'setresuid', 'setreuid', 'setsid', 'setuid', 'setxattr', 'spawnl', 'spawnle', 'spawnlp', 'spawnlpe', 'spawnv', 'spawnve', 'spawnvp', 'spawnvpe', 'st', 'stat', 'stat_result', 'statvfs', 'statvfs_result', 'strerror', 'supports_bytes_environ', 'supports_dir_fd', 'supports_effective_ids', 'supports_fd', 'supports_follow_symlinks', 'symlink', 'sync', 'sys', 'sysconf', 'sysconf_names', 'system', 'tcgetpgrp', 'tcsetpgrp', 'terminal_size', 'times', 'times_result', 'truncate', 'ttyname', 'umask', 'uname', 'uname_result', 'unlink', 'unsetenv', 'urandom', 'utime', 'wait', 'wait3', 'wait4', 'waitid', 'waitid_result', 'waitpid', 'walk', 'write', 'writev']\n"
     ]
    }
   ],
   "source": [
    "print(dir(os))"
   ]
  },
  {
   "cell_type": "markdown",
   "id": "1219ac0b",
   "metadata": {},
   "source": [
    "### get_exec_path()---> lista de str con los path que contienen ejecutables"
   ]
  },
  {
   "cell_type": "code",
   "execution_count": 3,
   "id": "46f95e2d",
   "metadata": {},
   "outputs": [
    {
     "name": "stdout",
     "output_type": "stream",
     "text": [
      "['__annotations__', '__call__', '__class__', '__closure__', '__code__', '__defaults__', '__delattr__', '__dict__', '__dir__', '__doc__', '__eq__', '__format__', '__ge__', '__get__', '__getattribute__', '__globals__', '__gt__', '__hash__', '__init__', '__init_subclass__', '__kwdefaults__', '__le__', '__lt__', '__module__', '__name__', '__ne__', '__new__', '__qualname__', '__reduce__', '__reduce_ex__', '__repr__', '__setattr__', '__sizeof__', '__str__', '__subclasshook__']\n"
     ]
    }
   ],
   "source": [
    "print(dir(os.get_exec_path))"
   ]
  },
  {
   "cell_type": "code",
   "execution_count": 4,
   "id": "83938e36",
   "metadata": {},
   "outputs": [
    {
     "name": "stdout",
     "output_type": "stream",
     "text": [
      "['/home/michelle/.local/bin', '/usr/local/sbin', '/usr/local/bin', '/usr/sbin', '/usr/bin', '/sbin', '/bin', '/usr/games', '/usr/local/games', '/snap/bin']\n"
     ]
    }
   ],
   "source": [
    "print(os.get_exec_path())"
   ]
  },
  {
   "cell_type": "markdown",
   "id": "925335fd",
   "metadata": {},
   "source": [
    "## getsize()\n",
    "\n",
    "#### Función .getsize() nos devuelve el tamaño en bits (int)"
   ]
  },
  {
   "cell_type": "code",
   "execution_count": 5,
   "id": "a15dca82",
   "metadata": {},
   "outputs": [
    {
     "name": "stdout",
     "output_type": "stream",
     "text": [
      "OS.CHDIR()\n",
      "['__call__', '__class__', '__delattr__', '__dir__', '__doc__', '__eq__', '__format__', '__ge__', '__getattribute__', '__gt__', '__hash__', '__init__', '__init_subclass__', '__le__', '__lt__', '__module__', '__name__', '__ne__', '__new__', '__qualname__', '__reduce__', '__reduce_ex__', '__repr__', '__self__', '__setattr__', '__sizeof__', '__str__', '__subclasshook__', '__text_signature__']\n",
      "------------------------------------------------------------------------------------------------------------------\n",
      "OS.PATH.GETSIZE()\n",
      "['__annotations__', '__call__', '__class__', '__closure__', '__code__', '__defaults__', '__delattr__', '__dict__', '__dir__', '__doc__', '__eq__', '__format__', '__ge__', '__get__', '__getattribute__', '__globals__', '__gt__', '__hash__', '__init__', '__init_subclass__', '__kwdefaults__', '__le__', '__lt__', '__module__', '__name__', '__ne__', '__new__', '__qualname__', '__reduce__', '__reduce_ex__', '__repr__', '__setattr__', '__sizeof__', '__str__', '__subclasshook__']\n"
     ]
    }
   ],
   "source": [
    "print('OS.CHDIR()')\n",
    "print(dir(os.chdir))\n",
    "print('------------------------------------------------------------------------------------------------------------------')\n",
    "print('OS.PATH.GETSIZE()')\n",
    "print(dir(os.path.getsize))"
   ]
  },
  {
   "cell_type": "code",
   "execution_count": 6,
   "id": "49d028f3",
   "metadata": {},
   "outputs": [
    {
     "data": {
      "text/plain": [
       "2613"
      ]
     },
     "execution_count": 6,
     "metadata": {},
     "output_type": "execute_result"
    }
   ],
   "source": [
    "os.chdir('/home/michelle/FORMACION/GOOGLE/CuadernosJupyter/')\n",
    "os.path.getsize('strings.py')"
   ]
  },
  {
   "cell_type": "markdown",
   "id": "58e34f42",
   "metadata": {},
   "source": [
    "## getmtime()\n",
    "\n",
    "#### getmtime() nos devuelve en segundos la fecha desde el 1 de enero de 1970, en la que se hizo la ultima modificacion en el file. El formato de salida es en un 'timestamp' que es una marca de tiempo de Unix."
   ]
  },
  {
   "cell_type": "code",
   "execution_count": 7,
   "id": "2ab81be4",
   "metadata": {},
   "outputs": [
    {
     "name": "stdout",
     "output_type": "stream",
     "text": [
      "['__annotations__', '__call__', '__class__', '__closure__', '__code__', '__defaults__', '__delattr__', '__dict__', '__dir__', '__doc__', '__eq__', '__format__', '__ge__', '__get__', '__getattribute__', '__globals__', '__gt__', '__hash__', '__init__', '__init_subclass__', '__kwdefaults__', '__le__', '__lt__', '__module__', '__name__', '__ne__', '__new__', '__qualname__', '__reduce__', '__reduce_ex__', '__repr__', '__setattr__', '__sizeof__', '__str__', '__subclasshook__']\n"
     ]
    }
   ],
   "source": [
    "print(dir(os.path.getmtime))"
   ]
  },
  {
   "cell_type": "code",
   "execution_count": 8,
   "id": "1d95c7d9",
   "metadata": {},
   "outputs": [
    {
     "data": {
      "text/plain": [
       "1651346238.0074563"
      ]
     },
     "execution_count": 8,
     "metadata": {},
     "output_type": "execute_result"
    }
   ],
   "source": [
    "os.path.getmtime('strings.py')"
   ]
  },
  {
   "cell_type": "markdown",
   "id": "5963b489",
   "metadata": {},
   "source": [
    "# Modulo datetime en Python"
   ]
  },
  {
   "cell_type": "markdown",
   "id": "88c2162b",
   "metadata": {},
   "source": [
    "### Hacemos uso de este modulo para pasar a formato entendible por los humanos el 'timestamp' devuelto por getmtime()"
   ]
  },
  {
   "cell_type": "code",
   "execution_count": 9,
   "id": "6eed321d",
   "metadata": {},
   "outputs": [],
   "source": [
    "import datetime"
   ]
  },
  {
   "cell_type": "code",
   "execution_count": 10,
   "id": "c2c748e6",
   "metadata": {},
   "outputs": [
    {
     "name": "stdout",
     "output_type": "stream",
     "text": [
      "['MAXYEAR', 'MINYEAR', '__builtins__', '__cached__', '__doc__', '__file__', '__loader__', '__name__', '__package__', '__spec__', 'date', 'datetime', 'datetime_CAPI', 'sys', 'time', 'timedelta', 'timezone', 'tzinfo']\n"
     ]
    }
   ],
   "source": [
    "print(dir(datetime))"
   ]
  },
  {
   "cell_type": "markdown",
   "id": "dab661de",
   "metadata": {},
   "source": [
    "### Podemos ver a traves de help() la documentacion de cada modulo y función"
   ]
  },
  {
   "cell_type": "code",
   "execution_count": 11,
   "id": "5e0ea51e",
   "metadata": {},
   "outputs": [],
   "source": [
    "# help(datetime)"
   ]
  },
  {
   "cell_type": "code",
   "execution_count": 12,
   "id": "700c3513",
   "metadata": {},
   "outputs": [
    {
     "name": "stdout",
     "output_type": "stream",
     "text": [
      "Help on function getmtime in module genericpath:\n",
      "\n",
      "getmtime(filename)\n",
      "    Return the last modification time of a file, reported by os.stat().\n",
      "\n"
     ]
    }
   ],
   "source": [
    "help(os.path.getmtime)"
   ]
  },
  {
   "cell_type": "code",
   "execution_count": 13,
   "id": "4efc073b",
   "metadata": {},
   "outputs": [
    {
     "name": "stdout",
     "output_type": "stream",
     "text": [
      "1651346238.0074563\n",
      "1652217555.0204172\n"
     ]
    }
   ],
   "source": [
    "timestamp = os.path.getmtime('strings.py')\n",
    "a = os.path.getatime('herencia.py')\n",
    "print(timestamp)\n",
    "print(a)"
   ]
  },
  {
   "cell_type": "code",
   "execution_count": 14,
   "id": "5347869e",
   "metadata": {},
   "outputs": [
    {
     "name": "stdout",
     "output_type": "stream",
     "text": [
      "['__add__', '__class__', '__delattr__', '__dir__', '__doc__', '__eq__', '__format__', '__ge__', '__getattribute__', '__gt__', '__hash__', '__init__', '__init_subclass__', '__le__', '__lt__', '__ne__', '__new__', '__radd__', '__reduce__', '__reduce_ex__', '__repr__', '__rsub__', '__setattr__', '__sizeof__', '__str__', '__sub__', '__subclasshook__', 'astimezone', 'combine', 'ctime', 'date', 'day', 'dst', 'fold', 'fromisocalendar', 'fromisoformat', 'fromordinal', 'fromtimestamp', 'hour', 'isocalendar', 'isoformat', 'isoweekday', 'max', 'microsecond', 'min', 'minute', 'month', 'now', 'replace', 'resolution', 'second', 'strftime', 'strptime', 'time', 'timestamp', 'timetuple', 'timetz', 'today', 'toordinal', 'tzinfo', 'tzname', 'utcfromtimestamp', 'utcnow', 'utcoffset', 'utctimetuple', 'weekday', 'year']\n"
     ]
    }
   ],
   "source": [
    "print(dir(datetime.datetime))"
   ]
  },
  {
   "cell_type": "code",
   "execution_count": 15,
   "id": "502a8822",
   "metadata": {},
   "outputs": [
    {
     "name": "stdout",
     "output_type": "stream",
     "text": [
      "Help on built-in function fromtimestamp in datetime.datetime:\n",
      "\n",
      "datetime.datetime.fromtimestamp = fromtimestamp(...) method of builtins.type instance\n",
      "    timestamp[, tz] -> tz's local time from POSIX timestamp.\n",
      "\n"
     ]
    }
   ],
   "source": [
    "help('datetime.datetime.fromtimestamp')"
   ]
  },
  {
   "cell_type": "code",
   "execution_count": 16,
   "id": "57343488",
   "metadata": {},
   "outputs": [
    {
     "name": "stdout",
     "output_type": "stream",
     "text": [
      "La fecha del timestamp es : 2022-04-30 21:17:18.007456\n",
      "La fecha de fecha_a es : 2022-05-10 23:19:15.020417\n"
     ]
    }
   ],
   "source": [
    "fecha = datetime.datetime.fromtimestamp(timestamp)\n",
    "fecha_a = datetime.datetime.fromtimestamp(a)\n",
    "print(f'La fecha del timestamp es : {fecha}')\n",
    "print(f'La fecha de fecha_a es : {fecha_a}')"
   ]
  },
  {
   "cell_type": "markdown",
   "id": "b1e2b2b5",
   "metadata": {},
   "source": [
    "## exists()\n",
    "\n",
    "#### .exists() nos devuelve True si existe el file"
   ]
  },
  {
   "cell_type": "code",
   "execution_count": 17,
   "id": "99419a62",
   "metadata": {},
   "outputs": [
    {
     "name": "stdout",
     "output_type": "stream",
     "text": [
      "Help on function exists in module genericpath:\n",
      "\n",
      "exists(path)\n",
      "    Test whether a path exists.  Returns False for broken symbolic links\n",
      "\n"
     ]
    }
   ],
   "source": [
    "help(os.path.exists)"
   ]
  },
  {
   "cell_type": "code",
   "execution_count": 18,
   "id": "688afd0f",
   "metadata": {},
   "outputs": [
    {
     "data": {
      "text/plain": [
       "True"
      ]
     },
     "execution_count": 18,
     "metadata": {},
     "output_type": "execute_result"
    }
   ],
   "source": [
    "os.path.exists('strings.py')"
   ]
  },
  {
   "cell_type": "markdown",
   "id": "7e81cf0c",
   "metadata": {},
   "source": [
    "### Continuamos con abspath() que nos devuelve la ruta absoluta de un file"
   ]
  },
  {
   "cell_type": "code",
   "execution_count": 19,
   "id": "f9ceb614",
   "metadata": {},
   "outputs": [
    {
     "name": "stdout",
     "output_type": "stream",
     "text": [
      "['__all__', '__builtins__', '__cached__', '__doc__', '__file__', '__loader__', '__name__', '__package__', '__spec__', '_get_sep', '_joinrealpath', '_varprog', '_varprogb', 'abspath', 'altsep', 'basename', 'commonpath', 'commonprefix', 'curdir', 'defpath', 'devnull', 'dirname', 'exists', 'expanduser', 'expandvars', 'extsep', 'genericpath', 'getatime', 'getctime', 'getmtime', 'getsize', 'isabs', 'isdir', 'isfile', 'islink', 'ismount', 'join', 'lexists', 'normcase', 'normpath', 'os', 'pardir', 'pathsep', 'realpath', 'relpath', 'samefile', 'sameopenfile', 'samestat', 'sep', 'split', 'splitdrive', 'splitext', 'stat', 'supports_unicode_filenames', 'sys']\n"
     ]
    }
   ],
   "source": [
    "print(dir(os.path))"
   ]
  },
  {
   "cell_type": "code",
   "execution_count": 20,
   "id": "0527f7e5",
   "metadata": {},
   "outputs": [
    {
     "name": "stdout",
     "output_type": "stream",
     "text": [
      "Help on function abspath in os.path:\n",
      "\n",
      "os.path.abspath = abspath(path)\n",
      "    Return an absolute path.\n",
      "\n"
     ]
    }
   ],
   "source": [
    "help('os.path.abspath')"
   ]
  },
  {
   "cell_type": "code",
   "execution_count": 21,
   "id": "524ef295",
   "metadata": {},
   "outputs": [
    {
     "name": "stdout",
     "output_type": "stream",
     "text": [
      "Ruta absoluta del file: /home/michelle/FORMACION/GOOGLE/CuadernosJupyter/herencia.py\n"
     ]
    }
   ],
   "source": [
    "ruta = os.path.abspath('herencia.py')\n",
    "print(f'Ruta absoluta del file: {ruta}')"
   ]
  },
  {
   "cell_type": "markdown",
   "id": "31a83038",
   "metadata": {},
   "source": [
    "### getcwd() nos muestra el path actual\n",
    "### chdir(ruta del directorio) nos cambia al directorio pasado"
   ]
  },
  {
   "cell_type": "code",
   "execution_count": 22,
   "id": "d73f20cd",
   "metadata": {},
   "outputs": [
    {
     "name": "stdout",
     "output_type": "stream",
     "text": [
      "Help on built-in function getcwd in os:\n",
      "\n",
      "os.getcwd = getcwd()\n",
      "    Return a unicode string representing the current working directory.\n",
      "\n"
     ]
    }
   ],
   "source": [
    "help('os.getcwd')"
   ]
  },
  {
   "cell_type": "code",
   "execution_count": 23,
   "id": "df9d9ebb",
   "metadata": {},
   "outputs": [
    {
     "data": {
      "text/plain": [
       "'/home/michelle/FORMACION/GOOGLE/CuadernosJupyter'"
      ]
     },
     "execution_count": 23,
     "metadata": {},
     "output_type": "execute_result"
    }
   ],
   "source": [
    "os.getcwd()"
   ]
  },
  {
   "cell_type": "markdown",
   "id": "b57b684f",
   "metadata": {},
   "source": [
    "### listdir() ----> lista con el contenido de un directorio"
   ]
  },
  {
   "cell_type": "code",
   "execution_count": 24,
   "id": "57c8c5a6",
   "metadata": {},
   "outputs": [
    {
     "name": "stdout",
     "output_type": "stream",
     "text": [
      "Help on built-in function listdir in os:\n",
      "\n",
      "os.listdir = listdir(path=None)\n",
      "    Return a list containing the names of the files in the directory.\n",
      "    \n",
      "    path can be specified as either str, bytes, or a path-like object.  If path is bytes,\n",
      "      the filenames returned will also be bytes; in all other circumstances\n",
      "      the filenames returned will be str.\n",
      "    If path is None, uses the path='.'.\n",
      "    On some platforms, path may also be specified as an open file descriptor;\\\n",
      "      the file descriptor must refer to a directory.\n",
      "      If this functionality is unavailable, using it raises NotImplementedError.\n",
      "    \n",
      "    The list is in arbitrary order.  It does not include the special\n",
      "    entries '.' and '..' even if they are present in the directory.\n",
      "\n"
     ]
    }
   ],
   "source": [
    "help('os.listdir')"
   ]
  },
  {
   "cell_type": "code",
   "execution_count": 25,
   "id": "b3fc1ed0",
   "metadata": {},
   "outputs": [
    {
     "name": "stdout",
     "output_type": "stream",
     "text": [
      "['strings.py', 'script_arbol_sistema.py', 'C1M6L1_Putting_It_All_Together.py', 'Semana2_osModulo.ipynb', 'Modulo_OS', 'Semana2_osModulo.md', '.ipynb_checkpoints', 'adivinaNumero.py', 'arbol_del_sistema.txt', 'claseCoche.py', 'prueba1_1.py', 'herencia.py']\n"
     ]
    }
   ],
   "source": [
    "os.chdir('/home/michelle/FORMACION/GOOGLE/')\n",
    "# cambiamos de directorio y listamos directorio\n",
    "print(os.listdir('CuadernosJupyter'))"
   ]
  },
  {
   "cell_type": "code",
   "execution_count": null,
   "id": "06af7934",
   "metadata": {},
   "outputs": [],
   "source": []
  },
  {
   "cell_type": "code",
   "execution_count": 26,
   "id": "be682ecc",
   "metadata": {},
   "outputs": [],
   "source": [
    "try:\n",
    "    os.mkdir('Modulo_OS')\n",
    "except FileExistsError:\n",
    "    print('Ya existe una carpeta con este nombre')"
   ]
  },
  {
   "cell_type": "markdown",
   "id": "90c2c8f8",
   "metadata": {},
   "source": [
    "### mkdir() nos crea un directorio que le pasamos como argumento str, si existe arroja error\n",
    "\n",
    "### usamos un try: except con el error que nos arroja para no colgar el programa"
   ]
  },
  {
   "cell_type": "markdown",
   "id": "6d3d2792",
   "metadata": {},
   "source": [
    "### os.mkdir() & os.makedirs() -----> crea un folder & crea una estructura de folders"
   ]
  },
  {
   "cell_type": "code",
   "execution_count": 27,
   "id": "e38bca95",
   "metadata": {},
   "outputs": [
    {
     "name": "stdout",
     "output_type": "stream",
     "text": [
      "Help on built-in function mkdir in os:\n",
      "\n",
      "os.mkdir = mkdir(path, mode=511, *, dir_fd=None)\n",
      "    Create a directory.\n",
      "    \n",
      "    If dir_fd is not None, it should be a file descriptor open to a directory,\n",
      "      and path should be relative; path will then be relative to that directory.\n",
      "    dir_fd may not be implemented on your platform.\n",
      "      If it is unavailable, using it will raise a NotImplementedError.\n",
      "    \n",
      "    The mode argument is ignored on Windows.\n",
      "\n"
     ]
    }
   ],
   "source": [
    "help('os.mkdir')"
   ]
  },
  {
   "cell_type": "code",
   "execution_count": 42,
   "id": "ce8c92dc",
   "metadata": {},
   "outputs": [
    {
     "name": "stdout",
     "output_type": "stream",
     "text": [
      "Help on function makedirs in os:\n",
      "\n",
      "os.makedirs = makedirs(name, mode=511, exist_ok=False)\n",
      "    makedirs(name [, mode=0o777][, exist_ok=False])\n",
      "    \n",
      "    Super-mkdir; create a leaf directory and all intermediate ones.  Works like\n",
      "    mkdir, except that any intermediate path segment (not just the rightmost)\n",
      "    will be created if it does not exist. If the target directory already\n",
      "    exists, raise an OSError if exist_ok is False. Otherwise no exception is\n",
      "    raised.  This is recursive.\n",
      "\n"
     ]
    }
   ],
   "source": [
    "help('os.makedirs')"
   ]
  },
  {
   "cell_type": "code",
   "execution_count": 54,
   "id": "c0ceb554",
   "metadata": {},
   "outputs": [
    {
     "data": {
      "text/plain": [
       "['strings.py',\n",
       " 'script_arbol_sistema.py',\n",
       " 'C1M6L1_Putting_It_All_Together.py',\n",
       " 'Semana2_osModulo.ipynb',\n",
       " 'Modulo_OS',\n",
       " 'Semana2_osModulo.md',\n",
       " 'folder_extra2',\n",
       " '.ipynb_checkpoints',\n",
       " 'adivinaNumero.py',\n",
       " 'arbol_del_sistema.txt',\n",
       " 'claseCoche.py',\n",
       " 'prueba1_1.py',\n",
       " 'herencia.py']"
      ]
     },
     "execution_count": 54,
     "metadata": {},
     "output_type": "execute_result"
    }
   ],
   "source": [
    "os.chdir('/home/michelle/FORMACION/GOOGLE/CuadernosJupyter/')\n",
    "os.getcwd()\n",
    "# os.removedirs('folder_extra1/subfolder1/subsubfolder1/')\n",
    "# Borramos todas las carpetas\n",
    "os.makedirs('folder_extra2/subfolder2/subsubfolder2')\n",
    "# creamos carpeta con subdirectorios\n",
    "os.listdir('/home/michelle/FORMACION/GOOGLE/CuadernosJupyter/')"
   ]
  },
  {
   "cell_type": "code",
   "execution_count": 28,
   "id": "fc89d676",
   "metadata": {},
   "outputs": [
    {
     "name": "stdout",
     "output_type": "stream",
     "text": [
      "Help on built-in function chdir in os:\n",
      "\n",
      "os.chdir = chdir(path)\n",
      "    Change the current working directory to the specified path.\n",
      "    \n",
      "    path may always be specified as a string.\n",
      "    On some platforms, path may also be specified as an open file descriptor.\n",
      "      If this functionality is unavailable, using it raises an exception.\n",
      "\n"
     ]
    }
   ],
   "source": [
    "help('os.chdir')"
   ]
  },
  {
   "cell_type": "markdown",
   "id": "66e5b44b",
   "metadata": {},
   "source": [
    "## os.walk() ---> Muy util para listar cada folder con sus subfolders y files"
   ]
  },
  {
   "cell_type": "code",
   "execution_count": 30,
   "id": "432503e0",
   "metadata": {},
   "outputs": [
    {
     "name": "stdout",
     "output_type": "stream",
     "text": [
      "Help on function walk in os:\n",
      "\n",
      "os.walk = walk(top, topdown=True, onerror=None, followlinks=False)\n",
      "    Directory tree generator.\n",
      "    \n",
      "    For each directory in the directory tree rooted at top (including top\n",
      "    itself, but excluding '.' and '..'), yields a 3-tuple\n",
      "    \n",
      "        dirpath, dirnames, filenames\n",
      "    \n",
      "    dirpath is a string, the path to the directory.  dirnames is a list of\n",
      "    the names of the subdirectories in dirpath (excluding '.' and '..').\n",
      "    filenames is a list of the names of the non-directory files in dirpath.\n",
      "    Note that the names in the lists are just names, with no path components.\n",
      "    To get a full path (which begins with top) to a file or directory in\n",
      "    dirpath, do os.path.join(dirpath, name).\n",
      "    \n",
      "    If optional arg 'topdown' is true or not specified, the triple for a\n",
      "    directory is generated before the triples for any of its subdirectories\n",
      "    (directories are generated top down).  If topdown is false, the triple\n",
      "    for a directory is generated after the triples for all of its\n",
      "    subdirectories (directories are generated bottom up).\n",
      "    \n",
      "    When topdown is true, the caller can modify the dirnames list in-place\n",
      "    (e.g., via del or slice assignment), and walk will only recurse into the\n",
      "    subdirectories whose names remain in dirnames; this can be used to prune the\n",
      "    search, or to impose a specific order of visiting.  Modifying dirnames when\n",
      "    topdown is false has no effect on the behavior of os.walk(), since the\n",
      "    directories in dirnames have already been generated by the time dirnames\n",
      "    itself is generated. No matter the value of topdown, the list of\n",
      "    subdirectories is retrieved before the tuples for the directory and its\n",
      "    subdirectories are generated.\n",
      "    \n",
      "    By default errors from the os.scandir() call are ignored.  If\n",
      "    optional arg 'onerror' is specified, it should be a function; it\n",
      "    will be called with one argument, an OSError instance.  It can\n",
      "    report the error to continue with the walk, or raise the exception\n",
      "    to abort the walk.  Note that the filename is available as the\n",
      "    filename attribute of the exception object.\n",
      "    \n",
      "    By default, os.walk does not follow symbolic links to subdirectories on\n",
      "    systems that support them.  In order to get this functionality, set the\n",
      "    optional argument 'followlinks' to true.\n",
      "    \n",
      "    Caution:  if you pass a relative pathname for top, don't change the\n",
      "    current working directory between resumptions of walk.  walk never\n",
      "    changes the current directory, and assumes that the client doesn't\n",
      "    either.\n",
      "    \n",
      "    Example:\n",
      "    \n",
      "    import os\n",
      "    from os.path import join, getsize\n",
      "    for root, dirs, files in os.walk('python/Lib/email'):\n",
      "        print(root, \"consumes\", end=\"\")\n",
      "        print(sum(getsize(join(root, name)) for name in files), end=\"\")\n",
      "        print(\"bytes in\", len(files), \"non-directory files\")\n",
      "        if 'CVS' in dirs:\n",
      "            dirs.remove('CVS')  # don't visit CVS directories\n",
      "\n"
     ]
    }
   ],
   "source": [
    "help('os.walk')"
   ]
  },
  {
   "cell_type": "code",
   "execution_count": 31,
   "id": "db00a9d2",
   "metadata": {},
   "outputs": [
    {
     "data": {
      "text/plain": [
       "\"os.chdir('/home/michelle/')\\nos.getcwd()\\n\\nfor dirpath, dirnames, filenames in os.walk('/home/michelle/'):\\n    print('Ruta al directorio: ',dirpath)\\n    print('----------------------------------')\\n    print('Nombres de directorio: ',dirnames)\\n    print('----------------------------------')\\n    print('Nombres de archivo: ',filenames)\\n    print('----------------------------------')\\n    print()\\n\""
      ]
     },
     "execution_count": 31,
     "metadata": {},
     "output_type": "execute_result"
    }
   ],
   "source": [
    "'''os.chdir('/home/michelle/')\n",
    "os.getcwd()\n",
    "\n",
    "for dirpath, dirnames, filenames in os.walk('/home/michelle/'):\n",
    "    print('Ruta al directorio: ',dirpath)\n",
    "    print('----------------------------------')\n",
    "    print('Nombres de directorio: ',dirnames)\n",
    "    print('----------------------------------')\n",
    "    print('Nombres de archivo: ',filenames)\n",
    "    print('----------------------------------')\n",
    "    print()\n",
    "'''   "
   ]
  },
  {
   "cell_type": "markdown",
   "id": "fc5de328",
   "metadata": {},
   "source": [
    "## NOTA ----->>\n",
    "#### Mirar el archivo arbol_del_sistema.txt creado con el script de python en la misma carpeta"
   ]
  },
  {
   "cell_type": "markdown",
   "id": "62c55799",
   "metadata": {},
   "source": [
    "### os.path.join() ----> nos devuelve un path a partir de un path y un file"
   ]
  },
  {
   "cell_type": "code",
   "execution_count": 32,
   "id": "7160c2b6",
   "metadata": {},
   "outputs": [
    {
     "name": "stdout",
     "output_type": "stream",
     "text": [
      "Help on function join in os.path:\n",
      "\n",
      "os.path.join = join(a, *p)\n",
      "    Join two or more pathname components, inserting '/' as needed.\n",
      "    If any component is an absolute path, all previous path components\n",
      "    will be discarded.  An empty last part will result in a path that\n",
      "    ends with a separator.\n",
      "\n"
     ]
    }
   ],
   "source": [
    "help('os.path.join')"
   ]
  },
  {
   "cell_type": "code",
   "execution_count": 33,
   "id": "9f4cd948",
   "metadata": {},
   "outputs": [
    {
     "name": "stdout",
     "output_type": "stream",
     "text": [
      "/home/michelle\n",
      "/home/michelle\n"
     ]
    }
   ],
   "source": [
    "print(os.environ.get('HOME'))# Nos pasa el path de la variable de entorno HOME\n",
    "path_home = os.environ.get('HOME')\n",
    "print(path_home)"
   ]
  },
  {
   "cell_type": "code",
   "execution_count": 34,
   "id": "17014948",
   "metadata": {},
   "outputs": [
    {
     "name": "stdout",
     "output_type": "stream",
     "text": [
      "/home/michelle/test.txt\n"
     ]
    }
   ],
   "source": [
    "file_path = os.path.join(path_home, 'test.txt') # Dos argumentos\n",
    "print(file_path)"
   ]
  },
  {
   "cell_type": "code",
   "execution_count": 35,
   "id": "d87fd596",
   "metadata": {},
   "outputs": [
    {
     "name": "stdout",
     "output_type": "stream",
     "text": [
      "Help on function basename in os.path:\n",
      "\n",
      "os.path.basename = basename(p)\n",
      "    Returns the final component of a pathname\n",
      "\n"
     ]
    }
   ],
   "source": [
    "help('os.path.basename')"
   ]
  },
  {
   "cell_type": "code",
   "execution_count": 36,
   "id": "ced1a51a",
   "metadata": {},
   "outputs": [
    {
     "name": "stdout",
     "output_type": "stream",
     "text": [
      "El archivo se llama --> test.txt y el directorio --> /home/michelle\n"
     ]
    }
   ],
   "source": [
    "# Para analizar por separado las dos partes del path\n",
    "nombre_file = os.path.basename(file_path)\n",
    "directorio_file = os.path.dirname(file_path)\n",
    "print(f'El archivo se llama --> {nombre_file} y el directorio --> {directorio_file}')"
   ]
  },
  {
   "cell_type": "code",
   "execution_count": 37,
   "id": "81453116",
   "metadata": {},
   "outputs": [
    {
     "name": "stdout",
     "output_type": "stream",
     "text": [
      "Help on function split in os.path:\n",
      "\n",
      "os.path.split = split(p)\n",
      "    Split a pathname.  Returns tuple \"(head, tail)\" where \"tail\" is\n",
      "    everything after the final slash.  Either part may be empty.\n",
      "\n"
     ]
    }
   ],
   "source": [
    "help('os.path.split')"
   ]
  },
  {
   "cell_type": "code",
   "execution_count": 38,
   "id": "5e58f8a6",
   "metadata": {},
   "outputs": [
    {
     "name": "stdout",
     "output_type": "stream",
     "text": [
      "('/home/michelle', 'test.txt')\n",
      "<class 'tuple'>\n"
     ]
    }
   ],
   "source": [
    "# os.path.split() nos devuelve una tupla con dos str\n",
    "completo_ruta_tupla = os.path.split(file_path)\n",
    "print(completo_ruta_tupla)\n",
    "print(type(completo_ruta_tupla))"
   ]
  },
  {
   "cell_type": "code",
   "execution_count": 39,
   "id": "815d7111",
   "metadata": {},
   "outputs": [
    {
     "name": "stdout",
     "output_type": "stream",
     "text": [
      "True\n",
      "False\n",
      "False\n",
      "True\n"
     ]
    }
   ],
   "source": [
    "# Vamos a seguir con otras funciones de este modulo. Acuérdate de mirar con dir(funcion) --> para ver las funciones\n",
    "# y con help('string nombre funcion') --> para ayuda del intérprete\n",
    "\n",
    "print(os.path.isdir('/home/michelle/FORMACION/GOOGLE/CuadernosJupyter/'))\n",
    "print(os.path.isdir('/home/michelle/FORMACION/GOOGLE/CuadernosJupyter23/'))\n",
    "print(os.path.isfile('/home/michelle/FORMACION/GOOGLE/CuadernosJupyter/'))\n",
    "print(os.path.isfile('/home/michelle/FORMACION/GOOGLE/CuadernosJupyter/strings.py'))\n",
    "# os.path.isdir() & os.path.isfile() devuelve booleano. Comprueba si es un directorio o file en el sistema"
   ]
  },
  {
   "cell_type": "code",
   "execution_count": 40,
   "id": "6f48c366",
   "metadata": {},
   "outputs": [
    {
     "data": {
      "text/plain": [
       "'/home/michelle/FORMACION/GOOGLE/CuadernosJupyter/strings'"
      ]
     },
     "execution_count": 40,
     "metadata": {},
     "output_type": "execute_result"
    }
   ],
   "source": [
    "# os.path.splitex() nos devuelve la extension del file\n",
    "os.path.splitext('/home/michelle/FORMACION/GOOGLE/CuadernosJupyter/strings.py')[0] # entrecorchetes la posicion de la extension"
   ]
  },
  {
   "cell_type": "code",
   "execution_count": 41,
   "id": "980143bb",
   "metadata": {},
   "outputs": [
    {
     "name": "stdout",
     "output_type": "stream",
     "text": [
      "Help on function splitext in os.path:\n",
      "\n",
      "os.path.splitext = splitext(p)\n",
      "    Split the extension from a pathname.\n",
      "    \n",
      "    Extension is everything from the last dot to the end, ignoring\n",
      "    leading dots.  Returns \"(root, ext)\"; ext may be empty.\n",
      "\n"
     ]
    }
   ],
   "source": [
    "help('os.path.splitext')"
   ]
  },
  {
   "cell_type": "code",
   "execution_count": 65,
   "id": "9979725e",
   "metadata": {},
   "outputs": [
    {
     "name": "stdout",
     "output_type": "stream",
     "text": [
      "CuadernosJupyter/strings.py is a file\n",
      "CuadernosJupyter/script_arbol_sistema.py is a file\n",
      "CuadernosJupyter/C1M6L1_Putting_It_All_Together.py is a file\n",
      "CuadernosJupyter/Semana2_osModulo.ipynb is a file\n",
      "CuadernosJupyter/Modulo_OS is a directory\n",
      "CuadernosJupyter/Semana2_osModulo.md is a file\n",
      "CuadernosJupyter/folder_extra2 is a directory\n",
      "CuadernosJupyter/.ipynb_checkpoints is a directory\n",
      "CuadernosJupyter/adivinaNumero.py is a file\n",
      "CuadernosJupyter/arbol_del_sistema.txt is a file\n",
      "CuadernosJupyter/claseCoche.py is a file\n",
      "CuadernosJupyter/prueba1_1.py is a file\n",
      "CuadernosJupyter/herencia.py is a file\n",
      "\n",
      "Help on ScandirIterator object:\n",
      "\n",
      "class ScandirIterator(builtins.object)\n",
      " |  Methods defined here:\n",
      " |  \n",
      " |  __del__(...)\n",
      " |  \n",
      " |  __enter__(...)\n",
      " |  \n",
      " |  __exit__(...)\n",
      " |  \n",
      " |  __iter__(self, /)\n",
      " |      Implement iter(self).\n",
      " |  \n",
      " |  __next__(self, /)\n",
      " |      Implement next(self).\n",
      " |  \n",
      " |  close(...)\n",
      "\n"
     ]
    }
   ],
   "source": [
    "os.chdir('/home/michelle/FORMACION/GOOGLE/')\n",
    "\n",
    "dir = 'CuadernosJupyter/'\n",
    "\n",
    "for name in os.listdir(dir):\n",
    "    fullname = os.path.join(dir, name)\n",
    "    if os.path.isdir(fullname):\n",
    "        print(f'{fullname} is a directory')\n",
    "    else:\n",
    "        print(f'{fullname} is a file')\n",
    "print()\n",
    "# comprobamos con os.path.isdir() si es un directorio        \n",
    "help(os.scandir(dir))"
   ]
  },
  {
   "cell_type": "code",
   "execution_count": 60,
   "id": "060494bf",
   "metadata": {},
   "outputs": [],
   "source": [
    "# NOTA ----> recuerda siempre usar os.path.join() para concatenar los path \n",
    "# ya que en linux usamos '/' y en Windows usamos '\\'"
   ]
  },
  {
   "cell_type": "markdown",
   "id": "ece6e860",
   "metadata": {},
   "source": [
    "# DESPEDIDA Y CIERRE\n",
    "### Aquí se acaba el repaso al modulo OS de Python. Espero te ayude el repaso"
   ]
  }
 ],
 "metadata": {
  "kernelspec": {
   "display_name": "Python 3",
   "language": "python",
   "name": "python3"
  },
  "language_info": {
   "codemirror_mode": {
    "name": "ipython",
    "version": 3
   },
   "file_extension": ".py",
   "mimetype": "text/x-python",
   "name": "python",
   "nbconvert_exporter": "python",
   "pygments_lexer": "ipython3",
   "version": "3.9.2"
  }
 },
 "nbformat": 4,
 "nbformat_minor": 5
}
