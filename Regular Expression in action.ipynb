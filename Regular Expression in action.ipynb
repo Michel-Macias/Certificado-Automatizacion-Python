{
 "cells": [
  {
   "cell_type": "markdown",
   "id": "maritime-illness",
   "metadata": {},
   "source": [
    "# Trabajando con REGEX en casos reales\n",
    "\n",
    "Vamos a analizar varios ejemplos en los que veremos la utilidad real de las REGEX."
   ]
  },
  {
   "cell_type": "code",
   "execution_count": 12,
   "id": "formal-jacksonville",
   "metadata": {},
   "outputs": [],
   "source": [
    "import re"
   ]
  },
  {
   "cell_type": "code",
   "execution_count": 13,
   "id": "noble-peeing",
   "metadata": {},
   "outputs": [],
   "source": [
    "texto = '''\n",
    "Alemania\n",
    "Andorra\n",
    "Angola\n",
    "Antigua y Barbuda\n",
    "Arabia Saudita\n",
    "Azerbaiyán\n",
    "Argelia\n",
    "Argentina\n",
    "Armenia\n",
    "Australia\n",
    "Austria\n",
    "China\n",
    "Chipre\n",
    "Colombia\n",
    "Comoras\n",
    "Congo\n",
    "Afganistán\n",
    "República Democrática del Congo\n",
    "Corea del Norte\n",
    "Corea del Sur\n",
    "Costa Rica\n",
    "Costa de Marfil\n",
    "Croacia\n",
    "Cuba\n",
    "Dinamarca'''"
   ]
  },
  {
   "cell_type": "markdown",
   "id": "placed-housing",
   "metadata": {},
   "source": [
    "Si buscamos los paises que empiecen por A y terminen en a le pasamos el siguiente patrón.\n",
    "r'A.*a ----> de esta manera vemos que tenemos que ajustar más la busqueda e indicarle que queremos que los caracteres se encuentren al inicio y al final del str."
   ]
  },
  {
   "cell_type": "code",
   "execution_count": 29,
   "id": "civic-civilian",
   "metadata": {},
   "outputs": [
    {
     "name": "stdout",
     "output_type": "stream",
     "text": [
      "<re.Match object; span=(0, 9), match='Afganista'>\n"
     ]
    }
   ],
   "source": [
    "print(re.search(r'A.*a', 'Afganistan'))"
   ]
  },
  {
   "cell_type": "markdown",
   "id": "threaded-married",
   "metadata": {},
   "source": [
    "Usamos findall() para buscar todas las coincidencias"
   ]
  },
  {
   "cell_type": "code",
   "execution_count": 15,
   "id": "knowing-framework",
   "metadata": {},
   "outputs": [
    {
     "name": "stdout",
     "output_type": "stream",
     "text": [
      "['Alemania', 'Andorra', 'Angola', 'Antigua y Barbuda', 'Arabia Saudita', 'Azerba', 'Argelia', 'Argentina', 'Armenia', 'Australia', 'Austria', 'Afga']\n"
     ]
    }
   ],
   "source": [
    "print(re.findall(r'A.*a', texto))"
   ]
  },
  {
   "cell_type": "markdown",
   "id": "industrial-lodging",
   "metadata": {},
   "source": [
    "Observamos como los paises 'Azerbajyan' y 'Afganistan' no los selecciona enteros\n",
    "  'Azerba' y 'Afga'\n",
    "\n",
    "Para ello tenemos que indicar en el patro que empiece por A y termine en a por medio del '^' para el inicio y el '$' para el final del str"
   ]
  },
  {
   "cell_type": "code",
   "execution_count": 35,
   "id": "specified-lincoln",
   "metadata": {},
   "outputs": [
    {
     "name": "stdout",
     "output_type": "stream",
     "text": [
      "['China', 'Colombia', 'Comora', 'Corea', 'Corea', 'Costa Rica', 'Costa de Ma', 'Croacia', 'Cuba']\n"
     ]
    }
   ],
   "source": [
    "print(re.findall(r'C.*a', texto))"
   ]
  }
 ],
 "metadata": {
  "kernelspec": {
   "display_name": "Python 3",
   "language": "python",
   "name": "python3"
  },
  "language_info": {
   "codemirror_mode": {
    "name": "ipython",
    "version": 3
   },
   "file_extension": ".py",
   "mimetype": "text/x-python",
   "name": "python",
   "nbconvert_exporter": "python",
   "pygments_lexer": "ipython3",
   "version": "3.9.2"
  }
 },
 "nbformat": 4,
 "nbformat_minor": 5
}
