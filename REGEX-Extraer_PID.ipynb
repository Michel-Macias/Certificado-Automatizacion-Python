{
 "cells": [
  {
   "cell_type": "markdown",
   "id": "authentic-marriage",
   "metadata": {},
   "source": [
    "# Video Coursera \n",
    "## Ejercicio guiado\n",
    "En este video vemos las REGEX en un caso práctico"
   ]
  },
  {
   "cell_type": "code",
   "execution_count": 3,
   "id": "psychological-jonathan",
   "metadata": {},
   "outputs": [
    {
     "name": "stdout",
     "output_type": "stream",
     "text": [
      "<re.Match object; span=(54, 60), match='[1707]'>\n"
     ]
    }
   ],
   "source": [
    "import re\n",
    "\n",
    "texto_log = \"Jun  1 10:50:13 TheFuckingMachine gnome-keyring-daemon[1707]: asked to register item /org/freedesktop/secrets/collection/login/1, but it's already registered\"\n",
    "\n",
    "regex = r'\\[(\\d+)\\]'\n",
    "\n",
    "result = re.search(regex, texto_log)\n",
    "\n",
    "print(result)"
   ]
  },
  {
   "cell_type": "markdown",
   "id": "active-seeking",
   "metadata": {},
   "source": [
    "Ahora vamos a ver que tenemos en los grupos"
   ]
  },
  {
   "cell_type": "code",
   "execution_count": 4,
   "id": "subsequent-prospect",
   "metadata": {},
   "outputs": [
    {
     "name": "stdout",
     "output_type": "stream",
     "text": [
      "1707\n"
     ]
    }
   ],
   "source": [
    "print(result[1])"
   ]
  },
  {
   "cell_type": "markdown",
   "id": "composed-ceiling",
   "metadata": {},
   "source": [
    "Probamos con un texto que contiene otro dato entre corchetes y otro que no tiene digitos."
   ]
  },
  {
   "cell_type": "code",
   "execution_count": 5,
   "id": "immune-semiconductor",
   "metadata": {},
   "outputs": [
    {
     "name": "stdout",
     "output_type": "stream",
     "text": [
      "123\n"
     ]
    },
    {
     "ename": "TypeError",
     "evalue": "'NoneType' object is not subscriptable",
     "output_type": "error",
     "traceback": [
      "\u001b[0;31m---------------------------------------------------------------------------\u001b[0m",
      "\u001b[0;31mTypeError\u001b[0m                                 Traceback (most recent call last)",
      "\u001b[0;32m<ipython-input-5-93ca927660b1>\u001b[0m in \u001b[0;36m<module>\u001b[0;34m\u001b[0m\n\u001b[1;32m      5\u001b[0m \u001b[0mresult_2\u001b[0m \u001b[0;34m=\u001b[0m \u001b[0mre\u001b[0m\u001b[0;34m.\u001b[0m\u001b[0msearch\u001b[0m\u001b[0;34m(\u001b[0m\u001b[0mregex\u001b[0m\u001b[0;34m,\u001b[0m \u001b[0;34m\"La chica [ABGG] no es conocida\"\u001b[0m\u001b[0;34m)\u001b[0m\u001b[0;34m\u001b[0m\u001b[0;34m\u001b[0m\u001b[0m\n\u001b[1;32m      6\u001b[0m \u001b[0;34m\u001b[0m\u001b[0m\n\u001b[0;32m----> 7\u001b[0;31m \u001b[0mprint\u001b[0m\u001b[0;34m(\u001b[0m\u001b[0mresult_2\u001b[0m\u001b[0;34m[\u001b[0m\u001b[0;36m1\u001b[0m\u001b[0;34m]\u001b[0m\u001b[0;34m)\u001b[0m\u001b[0;34m\u001b[0m\u001b[0;34m\u001b[0m\u001b[0m\n\u001b[0m",
      "\u001b[0;31mTypeError\u001b[0m: 'NoneType' object is not subscriptable"
     ]
    }
   ],
   "source": [
    "result_1 = re.search(regex, \"La clase está entre las [123] y la [244]\")\n",
    "\n",
    "print(result_1[1])\n",
    "\n",
    "result_2 = re.search(regex, \"La chica [ABGG] no es conocida\")\n",
    "\n",
    "print(result_2[1])"
   ]
  },
  {
   "cell_type": "markdown",
   "id": "taken-pavilion",
   "metadata": {},
   "source": [
    "En este caso nos devuelve un error, así que vamos a crear una funcion para tratar este error."
   ]
  },
  {
   "cell_type": "code",
   "execution_count": 6,
   "id": "academic-constitutional",
   "metadata": {},
   "outputs": [
    {
     "name": "stdout",
     "output_type": "stream",
     "text": [
      "1006\n",
      "No encontrado\n"
     ]
    }
   ],
   "source": [
    "log_systema = \"May 25 17:23:06 TheMachine dbus-daemon[1006]: [session uid=115 pid=1006] Successful\"\n",
    "\n",
    "log_2 = \"La chica es [ABGG] y es no conocida\"\n",
    "\n",
    "def extract_pid(filePID):\n",
    "    regex = r'\\spid=(\\d+)\\]' # ---> Acuerdate de que buscas un grupo y usa los ()\n",
    "    result = re.search(regex, filePID)\n",
    "    if result is None:\n",
    "        return \"No encontrado\"\n",
    "    return result[1]\n",
    "\n",
    "\n",
    "print(extract_pid(log_systema))\n",
    "\n",
    "print(extract_pid(log_2))\n",
    "\n"
   ]
  },
  {
   "cell_type": "markdown",
   "id": "dominant-timing",
   "metadata": {},
   "source": [
    "# Funcion split()\n",
    "Las funciones vistas hasta ahora en el modulo RE han sido search() y findall(). Vamos a repasar la función split(). Ponemos como ejemplo un texto en el que queremos seleccionar frases completas. Tenemos en cuenta aparte de los puntos [.] los signos de axclamacion e interrogacion [¿?!]"
   ]
  },
  {
   "cell_type": "code",
   "execution_count": 7,
   "id": "stock-reset",
   "metadata": {},
   "outputs": [
    {
     "name": "stdout",
     "output_type": "stream",
     "text": [
      "['La marea sube', ' La mama preguta', ' El nene se enfada', ' Mulo']\n"
     ]
    }
   ],
   "source": [
    "texto_noticia = \"La marea sube! La mama preguta? El nene se enfada. Mulo\"\n",
    "resultado = re.split(r'[.!?]',texto_noticia)\n",
    "print(resultado)"
   ]
  },
  {
   "cell_type": "markdown",
   "id": "confident-screen",
   "metadata": {},
   "source": [
    "Le pasamos los separadores entre parentesis y tambien nos selecciona los signos."
   ]
  },
  {
   "cell_type": "code",
   "execution_count": 8,
   "id": "quantitative-mixture",
   "metadata": {},
   "outputs": [
    {
     "name": "stdout",
     "output_type": "stream",
     "text": [
      "['La marea sube', '!', ' La mama preguta', '?', ' El nene se enfada', '.', ' Mulo']\n"
     ]
    }
   ],
   "source": [
    "resultado = re.split(r'([.!?])',texto_noticia)\n",
    "print(resultado)"
   ]
  },
  {
   "cell_type": "markdown",
   "id": "prerequisite-still",
   "metadata": {},
   "source": [
    "# Funcion sub()\n",
    "\n",
    "Repasamos la función sub() para crear nuevas cadenas sustituyendi todas o partes de ellas por una cadena diferente, similar a replace() pero usando regex, tanto para el matching (coincidencia) como para la sustitución.\n",
    "\n",
    "Vamos a anonimizar unos correos en un ejemplo."
   ]
  },
  {
   "cell_type": "code",
   "execution_count": 15,
   "id": "attractive-spare",
   "metadata": {},
   "outputs": [
    {
     "name": "stdout",
     "output_type": "stream",
     "text": [
      "Recibido email de go_nuts95@my.example.com\n",
      "\n",
      "Recibido email de go_nuts.68.mydddd@my.example.com\n"
     ]
    },
    {
     "data": {
      "text/plain": [
       "'Recibido email de [CENSURADO]'"
      ]
     },
     "execution_count": 15,
     "metadata": {},
     "output_type": "execute_result"
    }
   ],
   "source": [
    "texto = 'Recibido email de go_nuts95@my.example.com'\n",
    "texto2 = 'Recibido email de go_nuts.68.mydddd@my.example.com'\n",
    "print(texto)\n",
    "print()\n",
    "\n",
    "# Nota que la regex creada es poco restrictiva ya que este caso no\n",
    "# requiere que sea muy estricto si no al revés.\n",
    "# Podría pasar por buena direcciones no reales pero sólo lo censura\n",
    "\n",
    "# NOTA---> Para validar email tendríamos que ser mucho más estrictos\n",
    "\n",
    "re.sub(r'[\\w.%+-_]+@[\\w.-]+', '[CENSURADO]',texto)\n",
    "\n",
    "print(texto2)\n",
    "\n",
    "re.sub(r'[\\w.%+-_]+@[\\w.-]+', '[CENSURADO]',texto2)\n"
   ]
  },
  {
   "cell_type": "markdown",
   "id": "successful-qatar",
   "metadata": {},
   "source": [
    "Podemos usar sub() también para sustituir el orden de los grupos."
   ]
  },
  {
   "cell_type": "code",
   "execution_count": 32,
   "id": "executive-african",
   "metadata": {},
   "outputs": [
    {
     "name": "stdout",
     "output_type": "stream",
     "text": [
      "El nombre original es: Michel, Macías\n",
      "El nombre nuevo es: Macías Michel\n"
     ]
    }
   ],
   "source": [
    "nombre = 'Michel, Macías'\n",
    "nombre_inv = re.sub(r'^([\\w .-]*), ([\\w .-]*)$', r'\\2 \\1', nombre)\n",
    "print(f'El nombre original es: {nombre}\\nEl nombre nuevo es: {nombre_inv}')"
   ]
  },
  {
   "cell_type": "markdown",
   "id": "local-shipping",
   "metadata": {},
   "source": [
    "Lo que le pasamos en el segundo parámetro es lo que nos devuelve y los simbolos [\\1] y [\\2] hacen referencia a los grupos del texto pasado en el tercer parámetro."
   ]
  },
  {
   "cell_type": "code",
   "execution_count": null,
   "id": "modified-gibraltar",
   "metadata": {},
   "outputs": [],
   "source": []
  }
 ],
 "metadata": {
  "kernelspec": {
   "display_name": "Python 3",
   "language": "python",
   "name": "python3"
  },
  "language_info": {
   "codemirror_mode": {
    "name": "ipython",
    "version": 3
   },
   "file_extension": ".py",
   "mimetype": "text/x-python",
   "name": "python",
   "nbconvert_exporter": "python",
   "pygments_lexer": "ipython3",
   "version": "3.9.2"
  }
 },
 "nbformat": 4,
 "nbformat_minor": 5
}
