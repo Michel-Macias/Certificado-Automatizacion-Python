{
 "cells": [
  {
   "cell_type": "markdown",
   "id": "mobile-samoa",
   "metadata": {},
   "source": [
    "# Expresiones Regulares Avanzadas\n",
    "\n",
    "Estudio y ejercicios de la semana 3 del Curso de Google de Automatizacion con Python.\n",
    "\n",
    "Se pueden buscar patrones en grupo. Por ejemplo vamos a buscar en un texto una coincidencia de \"nombre, apellido\" separado por una coma como mostramos."
   ]
  },
  {
   "cell_type": "code",
   "execution_count": 1,
   "id": "attractive-guarantee",
   "metadata": {},
   "outputs": [
    {
     "name": "stdout",
     "output_type": "stream",
     "text": [
      "<re.Match object; span=(21, 38), match='Cristrian, Horner'>\n",
      "('Cristrian', 'Horner')\n",
      "Cristrian, Horner\n",
      "Cristrian\n"
     ]
    }
   ],
   "source": [
    "import re\n",
    "\n",
    "texto = \"El nombre buscado es Cristrian, Horner y no otro. No es Cristrian, Horner por ejemplo\" \n",
    "result = re.search(r\"(\\w*), (\\w*)\", texto)\n",
    "\n",
    "print(result)\n",
    "\n",
    "# <re.Match object; span=(0, 17), match='Cristrian, Horner'>\n",
    "\n",
    "print(result.groups())\n",
    "\n",
    "# ('Cristrian', 'Horner') --> devuelve una tupla de dos elementos\n",
    "\n",
    "print(result[0])\n",
    "\n",
    "# Nos devuelve un str con el nombre completo ---> Cristrian, Horner\n",
    "\n",
    "print(result[1]) # --> el [1] sería Cristrian\n"
   ]
  },
  {
   "cell_type": "markdown",
   "id": "imported-active",
   "metadata": {},
   "source": [
    "Podemos asignar el valor de cada indice de groups a una variable y usarlas normalmente"
   ]
  },
  {
   "cell_type": "code",
   "execution_count": 12,
   "id": "known-married",
   "metadata": {},
   "outputs": [
    {
     "name": "stdout",
     "output_type": "stream",
     "text": [
      "El nombre completo es Cristrian, Horner. Su nombre de pila es Cristrian y su apellido Horner\n"
     ]
    }
   ],
   "source": [
    "nombre_completo = result[0]\n",
    "nombre = result[1]\n",
    "apellido = result[2]\n",
    "frase = \"El nombre completo es {}. Su nombre de pila es {} y su apellido {}\".format(nombre_completo, nombre, apellido)\n",
    "print(frase)"
   ]
  },
  {
   "cell_type": "markdown",
   "id": "enabling-duncan",
   "metadata": {},
   "source": [
    "Usamos \\b para indicar que buscamos palabras enteras con un principio y un final marcados por el \\b. Así como el ^ y el $ indican el principio y el final de una línea.\n",
    " Le pasamos un patrón de busqueda para palabras \n",
    " de cinco letras completas. Prueba a quitarle en el codigo el \\b\n",
    " para ver como no se consigue lo deseado, ya que selecciona partes \n",
    " de otras palabras."
   ]
  },
  {
   "cell_type": "code",
   "execution_count": 16,
   "id": "expected-jerusalem",
   "metadata": {},
   "outputs": [
    {
     "name": "stdout",
     "output_type": "stream",
     "text": [
      "['scary', 'ghost']\n"
     ]
    }
   ],
   "source": [
    "print(re.findall(r'\\b[a-zA-Z]{5}\\b', \"A scary ghost appeared\"))"
   ]
  },
  {
   "cell_type": "markdown",
   "id": "strange-belgium",
   "metadata": {},
   "source": [
    "Podemos usar estos patrones para buscar cadenas de sólo números y de una longitud exacta o un formato exacto, como un DNI o un email"
   ]
  }
 ],
 "metadata": {
  "kernelspec": {
   "display_name": "Python 3",
   "language": "python",
   "name": "python3"
  },
  "language_info": {
   "codemirror_mode": {
    "name": "ipython",
    "version": 3
   },
   "file_extension": ".py",
   "mimetype": "text/x-python",
   "name": "python",
   "nbconvert_exporter": "python",
   "pygments_lexer": "ipython3",
   "version": "3.9.2"
  }
 },
 "nbformat": 4,
 "nbformat_minor": 5
}
